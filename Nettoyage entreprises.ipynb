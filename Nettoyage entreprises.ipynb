{
 "cells": [
  {
   "cell_type": "code",
   "execution_count": 27,
   "metadata": {},
   "outputs": [],
   "source": [
    "import json\n",
    "import requests\n",
    "import re\n",
    "import pandas as pd"
   ]
  },
  {
   "cell_type": "code",
   "execution_count": 28,
   "metadata": {},
   "outputs": [],
   "source": [
    "# NAF avec sphères\n",
    "df = pd.read_excel('sphere_NAF_rev2.xls')\n",
    "df.drop(range(8), inplace = True)\n",
    "df.columns = ['Code', 'Libelle', 'Code sphere', 'libelle sphere']\n",
    "df.set_index('Code', inplace = True)\n",
    "df.drop('libelle sphere', axis=1, inplace = True)"
   ]
  },
  {
   "cell_type": "code",
   "execution_count": 12,
   "metadata": {},
   "outputs": [],
   "source": [
    "nom = 'entreprises-immatriculees-en-2018'\n",
    "# nom = 'entreprises-radiees-en-2018'"
   ]
  },
  {
   "cell_type": "code",
   "execution_count": 13,
   "metadata": {},
   "outputs": [],
   "source": [
    "with open(nom + '.json') as file:  \n",
    "    list_entreprises = json.load(file)"
   ]
  },
  {
   "cell_type": "code",
   "execution_count": 15,
   "metadata": {},
   "outputs": [
    {
     "name": "stdout",
     "output_type": "stream",
     "text": [
      "10\n",
      "30\n",
      "93\n",
      "119\n",
      "232\n",
      "234\n"
     ]
    }
   ],
   "source": [
    "for entreprise in list_entreprises:\n",
    "    if 'code_ape' not in entreprise['fields']:\n",
    "        data = requests.get(entreprise['fields']['fiche_identite'])\n",
    "        result = re.findall(r'[0-9]{4}[A-Z] :', str(data.content))\n",
    "        if len(result) == 1:\n",
    "            entreprise['fields']['code_ape'] = result[0][:5]"
   ]
  },
  {
   "cell_type": "code",
   "execution_count": 23,
   "metadata": {},
   "outputs": [],
   "source": [
    "# ajout des données manquantes\n",
    "if nom == 'entreprises-immatriculees-en-2018':\n",
    "    list_entreprises[8]['fields']['code_ape'] = '3312Z'\n",
    "    list_entreprises[60]['fields']['code_ape'] = '4399C'\n",
    "    list_entreprises[98]['fields']['code_ape'] = '4399C'\n",
    "    list_entreprises[115]['fields']['code_ape'] = '4778A'\n",
    "    list_entreprises[119]['fields']['code_ape'] = '7112B'\n",
    "    list_entreprises[239]['fields']['code_ape'] = '8230Z'\n",
    "    list_entreprises[252]['fields']['code_ape'] = '7112B'\n",
    "    list_entreprises[264]['fields']['code_ape'] = '6820B'\n",
    "    list_entreprises[280]['fields']['code_ape'] = '4932Z'\n",
    "    list_entreprises[281]['fields']['code_ape'] = '6820A'\n",
    "    list_entreprises[308]['fields']['code_ape'] = '7112B'\n",
    "    list_entreprises[323]['fields']['code_ape'] = '4532Z'\n",
    "    list_entreprises[426]['fields']['code_ape'] = '7420Z'\n",
    "    list_entreprises[465]['fields']['code_ape'] = '5920Z'\n",
    "    list_entreprises[497]['fields']['code_ape'] = '4322B'\n",
    "    list_entreprises[570]['fields']['code_ape'] = '6202A'"
   ]
  },
  {
   "cell_type": "code",
   "execution_count": 24,
   "metadata": {},
   "outputs": [],
   "source": [
    "if nom == 'entreprises-radiees-en-2018':\n",
    "    list_entreprises[10]['fields']['code_ape'] = '4399C'\n",
    "    list_entreprises[30]['fields']['code_ape'] = '1812Z'\n",
    "    list_entreprises[93]['fields']['code_ape'] = '0000Z'\n",
    "    list_entreprises[119]['fields']['code_ape'] = '4711B'\n",
    "    list_entreprises[232]['fields']['code_ape'] = '7112B'\n",
    "    list_entreprises[234]['fields']['code_ape'] = '4333Z'"
   ]
  },
  {
   "cell_type": "code",
   "execution_count": 29,
   "metadata": {},
   "outputs": [],
   "source": [
    "for entreprise in list_entreprises:\n",
    "    if 'libelle_ape' not in entreprise['fields']:\n",
    "        if entreprise['fields']['code_ape'] == '0000Z':\n",
    "            entreprise['fields']['libelle_ape'] = 'NA'\n",
    "        else:\n",
    "            entreprise['fields']['libelle_ape'] = df.loc[entreprise['fields']['code_ape']]['Libelle']"
   ]
  },
  {
   "cell_type": "code",
   "execution_count": 30,
   "metadata": {},
   "outputs": [],
   "source": [
    "# ajout des données manquantes\n",
    "if nom == 'entreprises-immatriculees-en-2018':\n",
    "    list_entreprises[88]['geometry'] = {'type': 'Point', 'coordinates': [2.4184949, 48.628157]}\n",
    "    list_entreprises[146]['geometry'] = {'type': 'Point', 'coordinates': [2.624016, 48.605594]}\n",
    "    list_entreprises[226]['geometry'] = {'type': 'Point', 'coordinates': [2.380361, 48.647558]}\n",
    "    list_entreprises[526]['geometry'] = {'type': 'Point', 'coordinates': [2.364718, 48.612448]}"
   ]
  },
  {
   "cell_type": "code",
   "execution_count": 32,
   "metadata": {},
   "outputs": [],
   "source": [
    "with open(nom + '-nettoye.json', 'w') as fp:\n",
    "    json.dump(list_entreprises, fp)"
   ]
  },
  {
   "cell_type": "code",
   "execution_count": null,
   "metadata": {},
   "outputs": [],
   "source": []
  }
 ],
 "metadata": {
  "kernelspec": {
   "display_name": "Python 3",
   "language": "python",
   "name": "python3"
  },
  "language_info": {
   "codemirror_mode": {
    "name": "ipython",
    "version": 3
   },
   "file_extension": ".py",
   "mimetype": "text/x-python",
   "name": "python",
   "nbconvert_exporter": "python",
   "pygments_lexer": "ipython3",
   "version": "3.7.3"
  }
 },
 "nbformat": 4,
 "nbformat_minor": 2
}
