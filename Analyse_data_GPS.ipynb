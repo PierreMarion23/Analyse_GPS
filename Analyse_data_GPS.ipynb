{
 "cells": [
  {
   "cell_type": "markdown",
   "metadata": {},
   "source": [
    "# Analyse de données Grand Paris Sud"
   ]
  },
  {
   "cell_type": "markdown",
   "metadata": {},
   "source": [
    "Cette page présente une analyse de données libres issues du [portail Open Data de Grand Paris Sud](https://data.grandparissud.fr/pages/accueil/), du [site de l'INSEE](https://www.insee.fr/fr/accueil) et d'[OpenDataSoft](https://public.opendatasoft.com/explore/?sort=modified).\n",
    "\n",
    "Auteur : [Pierre Marion](mailto:pierre.marion@engie.com), Engie"
   ]
  },
  {
   "cell_type": "code",
   "execution_count": null,
   "metadata": {},
   "outputs": [],
   "source": [
    "import json\n",
    "import pandas as pd\n",
    "import numpy as np\n",
    "from ipyleaflet import Map, basemaps, basemap_to_tiles, Marker, Choropleth, Icon\n",
    "from branca.colormap import linear\n",
    "from bqplot import (\n",
    "    LogScale, LinearScale, OrdinalColorScale, ColorScale,\n",
    "    Axis, Scatter, Lines, CATEGORY10, Label, Figure, Tooltip\n",
    ")\n",
    "from ipywidgets import HBox, VBox, IntSlider, Play, jslink, ToggleButtons, Layout"
   ]
  },
  {
   "cell_type": "code",
   "execution_count": null,
   "metadata": {},
   "outputs": [],
   "source": [
    "pd.set_option('display.max_colwidth', -1)"
   ]
  },
  {
   "cell_type": "code",
   "execution_count": null,
   "metadata": {},
   "outputs": [],
   "source": [
    "commune_PGS = [\"91182\", \n",
    "               \"91228\", \n",
    "               \"91086\", \n",
    "               \"77067\", \n",
    "               \"77122\", \n",
    "               \"91174\", \n",
    "               \"91225\", \n",
    "               \"91286\", \n",
    "               \"91179\", \n",
    "               \"77251\", \n",
    "               \"91340\", \n",
    "               \"77296\", \n",
    "               \"91435\", \n",
    "               \"77326\", \n",
    "               \"77384\", \n",
    "               \"91521\", \n",
    "               \"91553\", \n",
    "               \"91573\", \n",
    "               \"91577\", \n",
    "               \"77445\", \n",
    "               \"91600\", \n",
    "               \"91617\", \n",
    "               \"77495\", \n",
    "               \"91659\"]"
   ]
  },
  {
   "cell_type": "code",
   "execution_count": null,
   "metadata": {},
   "outputs": [],
   "source": [
    "initial_year = 1975\n",
    "final_year = 2015"
   ]
  },
  {
   "cell_type": "code",
   "execution_count": null,
   "metadata": {},
   "outputs": [],
   "source": [
    "# spheres productive et présentielle par communes\n",
    "spheres = pd.read_excel('Spheres_Donnees_communales_1975_2015_Geo2017.xls', sheet_name='DONNEES')\n",
    "# pop par communes\n",
    "pop = pd.read_csv('historique-des-populations-legales-2.csv', sep=',')"
   ]
  },
  {
   "cell_type": "code",
   "execution_count": null,
   "metadata": {},
   "outputs": [],
   "source": [
    "spheres.drop(range(7), inplace=True)\n",
    "spheres.drop([8], inplace=True)\n",
    "spheres.columns = spheres.iloc[0]\n",
    "spheres.drop([7], inplace=True)\n",
    "spheres.set_index('Code', inplace = True)\n",
    "spheres.columns.name = ''\n",
    "spheres = spheres.loc[spheres.index.isin(commune_PGS)]\n",
    "spheres.drop(['Région', 'Aire urbaine', \"Taille de \\nl'aire urbaine\\n(en emploi)\"], axis=1, inplace=True)"
   ]
  },
  {
   "cell_type": "code",
   "execution_count": null,
   "metadata": {},
   "outputs": [],
   "source": [
    "def transform(data, nom):\n",
    "    x_range = np.arange(1975, 2016, 1.)\n",
    "    xp = [1975, 1982, 1990, 1999, 2010, 2015]\n",
    "    yp = [data[nom + ' ' + str(annee)] for annee in xp]\n",
    "    return np.interp(x_range, xp, yp)"
   ]
  },
  {
   "cell_type": "code",
   "execution_count": null,
   "metadata": {
    "scrolled": true
   },
   "outputs": [],
   "source": [
    "for nom in ['Emploi total', 'Sphère productive', 'Sphère présentielle']:\n",
    "    spheres[nom] = spheres.apply(transform, axis=1, nom=nom)"
   ]
  },
  {
   "cell_type": "code",
   "execution_count": null,
   "metadata": {},
   "outputs": [],
   "source": [
    "def get_pop(spheres_row, pop_data):\n",
    "    x_range = np.arange(1975, 2016, 1.)\n",
    "    xp = np.concatenate((np.array([1975., 1982., 1990., 1999.]), np.arange(2006, 2016, 1.)))\n",
    "    yp = [int(pop_data[(pop_data[\"Code INSEE\"] == int(spheres_row.name)) & (pop_data[\"Année\"] == annee)]['Population municipale']) for annee in xp]\n",
    "    return np.interp(x_range, xp, yp)"
   ]
  },
  {
   "cell_type": "code",
   "execution_count": null,
   "metadata": {},
   "outputs": [],
   "source": [
    "spheres['Population'] = spheres.apply(get_pop, axis=1, pop_data=pop)"
   ]
  },
  {
   "cell_type": "code",
   "execution_count": null,
   "metadata": {},
   "outputs": [],
   "source": [
    "prod_min, prod_max = np.min(spheres['Sphère productive'].apply(np.min)), np.max(spheres['Sphère productive'].apply(np.max))\n",
    "pres_min, pres_max = np.min(spheres['Sphère présentielle'].apply(np.min)), np.max(spheres['Sphère présentielle'].apply(np.max))\n",
    "pop_min, pop_max = np.min(spheres['Emploi total'].apply(np.min)), np.max(spheres['Emploi total'].apply(np.max))"
   ]
  },
  {
   "cell_type": "code",
   "execution_count": null,
   "metadata": {},
   "outputs": [],
   "source": [
    "def get_data(year):\n",
    "    year_index = year - 1975\n",
    "    prod = spheres['Sphère productive'].apply(lambda x: x[year_index])\n",
    "    pop =  spheres['Population'].apply(lambda x: x[year_index])\n",
    "\n",
    "    if year_index > 5:\n",
    "        pop_diff = spheres['Population'].apply(lambda x: (x[year_index]- x[year_index-5])/x[year_index-5])\n",
    "    else:\n",
    "        pop_diff = spheres['Population'].apply(lambda x: (x[year_index]- x[0])/x[0])\n",
    "    return [year]*len(prod), prod, pop, pop_diff"
   ]
  },
  {
   "cell_type": "code",
   "execution_count": null,
   "metadata": {},
   "outputs": [],
   "source": [
    "spheres['Categorie'] = pd.Series(np.zeros(spheres.index.size), index=spheres.index)\n",
    "spheres.loc[spheres.index.isin([\"91228\", \"91174\"]), \"Categorie\"] = 2\n",
    "spheres.loc[spheres.index.isin([\"91521\", \"77296\", \"91086\", \"91286\", \"91182\", \"77122\", \"91340\", \"77445\", \"77251\"]), \"Categorie\"] = 1"
   ]
  },
  {
   "cell_type": "markdown",
   "metadata": {},
   "source": [
    "##  Évolution temporelle des communes de Grand Paris Sud\n",
    "\n",
    "On représente sur ce graphe interactif l'évolution de la population et des emplois de la sphère productive des communes de Grand Paris Sud. \n",
    "\n",
    "D'après l'INSEE, la sphère productive est l'ensemble des activités qui produisent des biens majoritairement consommés hors de la zone et des activités de services tournées principalement vers les entreprises correspondantes. Par exemple, une activité d'ingénierie est productive.\n",
    "Cette notion s'oppose à la sphère présentielle qui correspond à l'ensemble des activités produisant des biens consommés dans la zone. Par exemple, une activité de boulangerie est présentielle.\n",
    "\n",
    "Pour chaque commune, la taille du cercle correspond à la population, sa couleur à l'évolution de la population sur les cinq dernières années, et sa position verticale à la taille de la sphère productive. \n",
    "\n",
    "Utiliser le slider en haut pour changer l'année, et cliquer sur une commune pour avoir l'évolution au cours du temps."
   ]
  },
  {
   "cell_type": "code",
   "execution_count": null,
   "metadata": {},
   "outputs": [],
   "source": [
    "tt = Tooltip(fields=['name', 'y', 'size'], labels=['Commune', 'Sphère productive', 'Population'])"
   ]
  },
  {
   "cell_type": "code",
   "execution_count": null,
   "metadata": {},
   "outputs": [],
   "source": [
    "x_sc = LinearScale(min=1975, max=2025)\n",
    "y_sc = LogScale(min=prod_min, max=prod_max)\n",
    "# c_sc = OrdinalColorScale(domain=spheres['Categorie'].unique().tolist(), colors=CATEGORY10[:3])\n",
    "c_sc = ColorScale(scheme='RdYlGn')\n",
    "size_sc = LinearScale(min=pop_min, max=pop_max)"
   ]
  },
  {
   "cell_type": "code",
   "execution_count": null,
   "metadata": {},
   "outputs": [],
   "source": [
    "c_sc.min = -0.01\n",
    "c_sc.mid = 0.01\n",
    "c_sc.max = 0.03"
   ]
  },
  {
   "cell_type": "code",
   "execution_count": null,
   "metadata": {},
   "outputs": [],
   "source": [
    "ax_y = Axis(label=\"Nombre d'employés dans la sphère productive\", scale=y_sc, orientation='vertical', side='left', grid_lines='solid')\n",
    "ax_x = Axis(label='Temps', scale=x_sc, grid_lines='solid')"
   ]
  },
  {
   "cell_type": "code",
   "execution_count": null,
   "metadata": {},
   "outputs": [],
   "source": [
    "# Start with the first year's data\n",
    "year, prod, pop, pop_diff = get_data(initial_year)"
   ]
  },
  {
   "cell_type": "code",
   "execution_count": null,
   "metadata": {},
   "outputs": [],
   "source": [
    "wealth_scat = Scatter(x=year, y=prod, color=pop_diff, size=pop,\n",
    "                      names=spheres['Libellé'], display_names=True,\n",
    "                      scales={'x': x_sc, 'y': y_sc, 'color': c_sc, 'size': size_sc},\n",
    "                      default_size=4112, tooltip=tt, animate=True, stroke='Black',\n",
    "                      hovered_style={'opacity': 0.8}, default_opacities=[0.2])"
   ]
  },
  {
   "cell_type": "code",
   "execution_count": null,
   "metadata": {},
   "outputs": [],
   "source": [
    "commune_line = Lines(x=range(initial_year, final_year + 1), y=spheres['Sphère productive'][0], colors=['Gray'],\n",
    "                       scales={'x': x_sc, 'y': y_sc}, visible=False, animation_duration=0)"
   ]
  },
  {
   "cell_type": "code",
   "execution_count": null,
   "metadata": {},
   "outputs": [],
   "source": [
    "time_interval = 500"
   ]
  },
  {
   "cell_type": "code",
   "execution_count": null,
   "metadata": {},
   "outputs": [],
   "source": [
    "fig = Figure(marks=[wealth_scat, commune_line], axes=[ax_x, ax_y],\n",
    "             title='Evolution des communes de Grand Paris Sud', animation_duration=time_interval)\n",
    "fig.layout.height = '1100px'\n",
    "fig.layout.width = '950px'"
   ]
  },
  {
   "cell_type": "code",
   "execution_count": null,
   "metadata": {},
   "outputs": [],
   "source": [
    "year_slider = IntSlider(min=1975, max=2015, step=1, description='Year', value=initial_year)"
   ]
  },
  {
   "cell_type": "code",
   "execution_count": null,
   "metadata": {},
   "outputs": [],
   "source": [
    "def hover_changed(self, change):\n",
    "    if change['data']['unique_id'] in spheres['Libellé'].values:\n",
    "        commune_line.y = spheres[spheres['Libellé'] == change['data']['unique_id']]['Sphère productive'].values[0]\n",
    "        commune_line.visible = True\n",
    "        wealth_scat.x, wealth_scat.y, wealth_scat.size, wealth_scat.color, wealth_scat.names  = get_data_hover(change['data']['unique_id'])\n",
    "        wealth_scat.default_opacities = [1]\n",
    "        fig.title = 'Evolution de la commune de ' + change['data']['unique_id']\n",
    "    else:\n",
    "        commune_line.visible = False\n",
    "        wealth_scat.x, wealth_scat.y, wealth_scat.size, wealth_scat.color  = get_data(year_slider.value)\n",
    "        wealth_scat.names = spheres['Libellé']\n",
    "        wealth_scat.default_opacities = [0.2]\n",
    "        fig.title = 'Evolution des communes de Grand Paris Sud'\n",
    "        \n",
    "wealth_scat.on_element_click(hover_changed)"
   ]
  },
  {
   "cell_type": "code",
   "execution_count": null,
   "metadata": {},
   "outputs": [],
   "source": [
    "def get_data_hover(libelle):\n",
    "    prod = spheres[spheres['Libellé'] == libelle]['Sphère productive'].values[0][::5]\n",
    "    pop =  spheres[spheres['Libellé'] == libelle]['Population'].values[0][::5]\n",
    "    pop_diff = np.concatenate(([0], np.diff(pop)/pop[:-1]))\n",
    "    return range(1975,2016,5), prod, pop, pop_diff, range(1975, 2016,5)"
   ]
  },
  {
   "cell_type": "code",
   "execution_count": null,
   "metadata": {},
   "outputs": [],
   "source": [
    "def year_changed(change):\n",
    "    hover_changed(None, {'data':{'unique_id':'placeholder'}})\n",
    "\n",
    "year_slider.observe(year_changed, 'value')"
   ]
  },
  {
   "cell_type": "code",
   "execution_count": null,
   "metadata": {},
   "outputs": [],
   "source": [
    "play_button = Play(min=1975, max=2015, interval=time_interval)\n",
    "jslink((play_button, 'value'), (year_slider, 'value'))"
   ]
  },
  {
   "cell_type": "code",
   "execution_count": null,
   "metadata": {
    "scrolled": false
   },
   "outputs": [],
   "source": [
    "VBox([HBox([play_button, year_slider]), fig])"
   ]
  },
  {
   "cell_type": "markdown",
   "metadata": {},
   "source": [
    "## Implantations des entreprises en 2018"
   ]
  },
  {
   "cell_type": "code",
   "execution_count": null,
   "metadata": {},
   "outputs": [],
   "source": [
    "# NAF avec sphères\n",
    "df = pd.read_excel('sphere_NAF_rev2.xls')\n",
    "df.drop(range(8), inplace = True)\n",
    "df.columns = ['Code', \"Nom de l'activité\", 'Code sphere', 'Sphère']\n",
    "df.set_index('Code', inplace = True)\n",
    "df.drop('Code sphere', axis=1, inplace = True)"
   ]
  },
  {
   "cell_type": "code",
   "execution_count": null,
   "metadata": {
    "scrolled": true
   },
   "outputs": [],
   "source": [
    "df[\"Nombre d'installations en 2018\"] = pd.Series(np.zeros(df.index.size), index=df.index)\n",
    "df[\"Nombre de radiations en 2018\"] = pd.Series(np.zeros(df.index.size), index=df.index)"
   ]
  },
  {
   "cell_type": "code",
   "execution_count": null,
   "metadata": {},
   "outputs": [],
   "source": [
    "with open('entreprises-immatriculees-en-2018-nettoye.json') as file:  \n",
    "    list_entreprises = json.load(file)\n",
    "with open('entreprises-radiees-en-2018-nettoye.json') as file:  \n",
    "    list_entreprises_radiees = json.load(file)"
   ]
  },
  {
   "cell_type": "code",
   "execution_count": null,
   "metadata": {},
   "outputs": [],
   "source": [
    "for entreprise in list_entreprises:\n",
    "    df.loc[df.index == entreprise['fields']['code_ape'], \"Nombre d'installations en 2018\"] += 1\n",
    "for entreprise in list_entreprises_radiees:\n",
    "    df.loc[df.index == entreprise['fields']['code_ape'], \"Nombre de radiations en 2018\"] += 1"
   ]
  },
  {
   "cell_type": "markdown",
   "metadata": {},
   "source": [
    "Le tableau suivant présente les activités pour lesquelles le plus d'entreprises se sont installées en 2018. On indique le code INSEE de l'activité, son nom, la sphère d'activités (présentielle ou productive) correspondante, et le nombre d'installations et de radiations en 2018."
   ]
  },
  {
   "cell_type": "code",
   "execution_count": null,
   "metadata": {},
   "outputs": [],
   "source": [
    "df[df[\"Nombre d'installations en 2018\"] > 6].sort_values(by=\"Nombre d'installations en 2018\", ascending=False)"
   ]
  },
  {
   "cell_type": "code",
   "execution_count": null,
   "metadata": {},
   "outputs": [],
   "source": [
    "with open('geoflar-communes-IDF.geojson') as file:  \n",
    "    geo_json_data =  json.load(file)\n",
    "for commune in geo_json_data['features']:\n",
    "    commune['id'] = commune['properties']['insee_com']\n",
    "geo_json_data['features'] = [commune for commune in geo_json_data['features'] if commune['id'] in commune_PGS]\n",
    "sphere_prod =  dict(zip(spheres.index.tolist(), spheres['Sphère productive 2015'].tolist()))\n",
    "sphere_pres = dict(zip(spheres.index.tolist(), spheres['Sphère présentielle 2015'].tolist()))\n",
    "emploi = dict(zip(spheres.index.tolist(), spheres['Emploi total 2015'].tolist()))"
   ]
  },
  {
   "cell_type": "code",
   "execution_count": null,
   "metadata": {
    "scrolled": true
   },
   "outputs": [],
   "source": [
    "choropleth = Choropleth(\n",
    "    geo_data=geo_json_data,\n",
    "    choro_data = emploi,\n",
    "    colormap=linear.YlOrRd_04,\n",
    "    border_color='black',\n",
    "    style={'fillOpacity': 0.7, 'dashArray': '5, 5'})"
   ]
  },
  {
   "cell_type": "code",
   "execution_count": null,
   "metadata": {},
   "outputs": [],
   "source": [
    "m = Map(center=(48.6068088, 2.5105476379), zoom=12, layout={'height':'800px'})\n",
    "\n",
    "basemap_layer = basemap_to_tiles(basemaps.OpenStreetMap.Mapnik)\n",
    "m.add_layer(basemap_layer)\n",
    "m.add_layer(choropleth)\n",
    "\n",
    "for entreprise in list_entreprises:\n",
    "    entreprise['marker'] = Marker(location=entreprise['geometry']['coordinates'][::-1], draggable=False, title=entreprise['fields']['denomination'] + '\\n' + entreprise['fields']['libelle_ape'],\n",
    "      icon = Icon(icon_url='https://raw.githubusercontent.com/pointhi/leaflet-color-markers/master/img/marker-icon-2x-green.png', icon_size=[25, 40], icon_anchor = [12.5, 40]))\n",
    "    m.add_layer(entreprise['marker'])\n",
    "        \n",
    "for entreprise in list_entreprises_radiees:\n",
    "    entreprise['marker'] = Marker(location=entreprise['geometry']['coordinates'][::-1], draggable=False, title=entreprise['fields']['denomination'] + '\\n' + entreprise['fields']['libelle_ape'],\n",
    "      icon = Icon(icon_url='https://raw.githubusercontent.com/pointhi/leaflet-color-markers/master/img/marker-icon-2x-red.png', icon_size=[25, 40], icon_anchor = [12.5, 40]))\n",
    "    m.add_layer(entreprise['marker'])"
   ]
  },
  {
   "cell_type": "code",
   "execution_count": null,
   "metadata": {},
   "outputs": [],
   "source": [
    "secteur_code = {\n",
    "    'Tous' : range(100), \n",
    "    'Agriculture' : range(1, 4), \n",
    "    'Industrie' : range(4, 34),\n",
    "    'Energie / réseaux' : range(34, 39),\n",
    "    'Construction': range(41, 44),\n",
    "    'Commerce' : range(45, 48), \n",
    "    'Transports' : range(49, 54), \n",
    "    'Hotel / Restauration' : range(55, 57), \n",
    "    'Services à haute VA' : range(58, 76), \n",
    "    'Services publics' : range(77, 89), \n",
    "    'Autres' : range(89, 100)\n",
    "}"
   ]
  },
  {
   "cell_type": "code",
   "execution_count": null,
   "metadata": {},
   "outputs": [],
   "source": [
    "list_prod = df.loc[df[\"Sphère\"] == \"Productive\"].index\n",
    "list_pres = df.loc[df[\"Sphère\"] == \"Présentielle\"].index"
   ]
  },
  {
   "cell_type": "code",
   "execution_count": null,
   "metadata": {},
   "outputs": [],
   "source": [
    "def change_button(change):\n",
    "    for l in [list_entreprises, list_entreprises_radiees]:\n",
    "        for entreprise in l:\n",
    "            secteur = int(entreprise['fields']['code_ape'][:2])\n",
    "            ok = (secteur in secteur_code[b2.value])\n",
    "            if change['new'] == 'Toutes' and ok:\n",
    "                entreprise['marker'].visible = True\n",
    "            elif change['new'] == 'Sphère productive':\n",
    "                if entreprise['fields']['code_ape'] in list_prod and ok:\n",
    "                    entreprise['marker'].visible = True\n",
    "                else:\n",
    "                    entreprise['marker'].visible = False\n",
    "            elif change['new'] == 'Sphère présentielle':\n",
    "                if entreprise['fields']['code_ape'] in list_pres and ok:\n",
    "                    entreprise['marker'].visible = True\n",
    "                else:\n",
    "                    entreprise['marker'].visible = False"
   ]
  },
  {
   "cell_type": "code",
   "execution_count": null,
   "metadata": {},
   "outputs": [],
   "source": [
    "def change_button2(change):\n",
    "    for l in [list_entreprises, list_entreprises_radiees]:\n",
    "        for entreprise in l:\n",
    "            secteur = int(entreprise['fields']['code_ape'][:2])\n",
    "            sphere_prod = (entreprise['fields']['code_ape'] in list_prod)\n",
    "            sphere_pres = not sphere_prod\n",
    "            ok = (b.value == 'Toutes' or (b.value == 'Sphère productive' and sphere_prod) or (b.value == 'Sphère présentielle' and sphere_pres))\n",
    "            if secteur in secteur_code[change['new']] and ok:\n",
    "                entreprise['marker'].visible = True\n",
    "            else:\n",
    "                entreprise['marker'].visible = False"
   ]
  },
  {
   "cell_type": "code",
   "execution_count": null,
   "metadata": {},
   "outputs": [],
   "source": [
    "b = ToggleButtons(\n",
    "    options=['Toutes', 'Sphère productive', 'Sphère présentielle'],\n",
    "    description=\"Sélectionner la sphère de l'entreprise :\",\n",
    "    disabled=False,\n",
    "    button_style='', # 'success', 'info', 'warning', 'danger' or ''\n",
    "    tooltips=['Description of slow', 'Description of regular', 'Description of fast'],\n",
    "    style={'description_width': 'initial'}\n",
    ")\n",
    "b.observe(change_button, names='value')"
   ]
  },
  {
   "cell_type": "code",
   "execution_count": null,
   "metadata": {},
   "outputs": [],
   "source": [
    "b2 = ToggleButtons(\n",
    "    options=['Tous', 'Agriculture', 'Industrie', 'Energie / réseaux', 'Construction', 'Commerce', 'Transports', 'Hotel / Restauration', 'Services à haute VA', 'Services publics', 'Autres'],\n",
    "    description=\"Sélectionner le secteur d'activité :\",\n",
    "    disabled=False,\n",
    "    button_style='', # 'success', 'info', 'warning', 'danger' or ''\n",
    "    tooltips=['Description of slow', 'Description of regular', 'Description of fast'],\n",
    "    style={'description_width': 'initial'}\n",
    ")\n",
    "b2.observe(change_button2, names='value')"
   ]
  },
  {
   "cell_type": "markdown",
   "metadata": {},
   "source": [
    "La carte interactive ci-dessous montre les créations et les destructions d'entreprises sur le territoire de Grand Paris Sud en 2018. Les marqueurs verts correspondent aux créations d'entreprises tandis que les marqueurs rouges correspondent aux destructions d'entreprises.\n",
    "Le fond coloré représente le nombre d'emplois par commune - beaucoup d'emplois dans les communes rouges et peu d'emplois dans les communes jaunes.\n",
    "On peut filtrer les marqueurs en fonction de la sphère de l'entreprise (productive ou présentielle) et du secteur d'activité."
   ]
  },
  {
   "cell_type": "code",
   "execution_count": null,
   "metadata": {},
   "outputs": [],
   "source": [
    "VBox([b, b2, m])"
   ]
  },
  {
   "cell_type": "markdown",
   "metadata": {},
   "source": [
    "## Mentions légales\n",
    "\n",
    "Crédit : Pierre Marion, Engie. \n",
    "\n",
    "Les données sur cette page sont publiées sous la license [Open Database License](http://opendatacommons.org/licenses/odbl/1.0/). Les contenus individuels de la page sont protégés par la license [Database Contents License](http://opendatacommons.org/licenses/dbcl/1.0/).\n",
    "\n",
    "Les jeux de données utilisés sont les suivants :\n",
    "+ [les entreprises immatriculées et radiées en 2018](https://data.grandparissud.fr/explore/dataset/entreprises-radiees-en-2018/information/?sort=date_radiation), producteur : Infogreffe, modifié le 27 septembre 2018 à 17:48\n",
    "+ [l'historique des populations légales](https://www.insee.fr/fr/statistiques/2522602), producteur : INSEE\n",
    "+ [la grille pour la définition des sphères à partir de la NAF rév 2](https://www.insee.fr/fr/statistiques/fichier/1893206/sphere_NAF_rev2.xls), producteur : INSEE\n",
    "+ [les données communales d'emploi par sphère de 1975 à 2015](https://www.insee.fr/fr/statistiques/fichier/1893206/Spheres_Donnees_communales_1975_2015_Geo2017.zip), producteur : INSEE\n",
    "+ [la base GEOFLA contenant la localisation de l'ensemble des communes de France](https://public.opendatasoft.com/explore/dataset/geoflar-communes/information/), producteur : IGN, modifié le 19 février 2016 à 14:58\n",
    "+ [les fonds de carte OpenStreetMap](https://www.openstreetmap.org/)"
   ]
  }
 ],
 "metadata": {
  "kernelspec": {
   "display_name": "Python 3",
   "language": "python",
   "name": "python3"
  },
  "language_info": {
   "codemirror_mode": {
    "name": "ipython",
    "version": 3
   },
   "file_extension": ".py",
   "mimetype": "text/x-python",
   "name": "python",
   "nbconvert_exporter": "python",
   "pygments_lexer": "ipython3",
   "version": "3.7.3"
  }
 },
 "nbformat": 4,
 "nbformat_minor": 2
}
